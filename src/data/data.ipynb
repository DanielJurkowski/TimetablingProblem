{
 "cells": [
  {
   "cell_type": "code",
   "execution_count": 60,
   "outputs": [],
   "source": [
    "import pandas as pd"
   ],
   "metadata": {
    "collapsed": false
   }
  },
  {
   "cell_type": "code",
   "execution_count": 65,
   "outputs": [
    {
     "data": {
      "text/plain": "   group_id group_name\n0         1         1a\n1         2         1b\n2         3         2a\n3         4         2b\n4         5         3a\n5         6         3b\n6         8         4b",
      "text/html": "<div>\n<style scoped>\n    .dataframe tbody tr th:only-of-type {\n        vertical-align: middle;\n    }\n\n    .dataframe tbody tr th {\n        vertical-align: top;\n    }\n\n    .dataframe thead th {\n        text-align: right;\n    }\n</style>\n<table border=\"1\" class=\"dataframe\">\n  <thead>\n    <tr style=\"text-align: right;\">\n      <th></th>\n      <th>group_id</th>\n      <th>group_name</th>\n    </tr>\n  </thead>\n  <tbody>\n    <tr>\n      <th>0</th>\n      <td>1</td>\n      <td>1a</td>\n    </tr>\n    <tr>\n      <th>1</th>\n      <td>2</td>\n      <td>1b</td>\n    </tr>\n    <tr>\n      <th>2</th>\n      <td>3</td>\n      <td>2a</td>\n    </tr>\n    <tr>\n      <th>3</th>\n      <td>4</td>\n      <td>2b</td>\n    </tr>\n    <tr>\n      <th>4</th>\n      <td>5</td>\n      <td>3a</td>\n    </tr>\n    <tr>\n      <th>5</th>\n      <td>6</td>\n      <td>3b</td>\n    </tr>\n    <tr>\n      <th>6</th>\n      <td>8</td>\n      <td>4b</td>\n    </tr>\n  </tbody>\n</table>\n</div>"
     },
     "execution_count": 65,
     "metadata": {},
     "output_type": "execute_result"
    }
   ],
   "source": [
    "groups = pd.read_csv('groups.csv')\n",
    "groups"
   ],
   "metadata": {
    "collapsed": false
   }
  },
  {
   "cell_type": "code",
   "execution_count": 62,
   "outputs": [
    {
     "data": {
      "text/plain": "    room_id   room_name\n0         1   sala nr 1\n1         2   sala nr 2\n2         3   sala nr 3\n3         4   sala nr 4\n4         5   sala nr 5\n5         6   sala nr 6\n6         7   sala nr 7\n7         8   sala nr 8\n8         9   sala nr 9\n9        10  sala nr 10\n10       11  sala nr 11\n11       12  sala nr 12\n12       13  sala nr 13\n13       14  sala nr 14\n14       15  sala nr 15\n15       16  sala nr 16\n16       17  sala nr 17\n17       18  sala nr 18\n18       19  sala nr 19\n19       20  sala nr 20\n20       21  sala nr 21",
      "text/html": "<div>\n<style scoped>\n    .dataframe tbody tr th:only-of-type {\n        vertical-align: middle;\n    }\n\n    .dataframe tbody tr th {\n        vertical-align: top;\n    }\n\n    .dataframe thead th {\n        text-align: right;\n    }\n</style>\n<table border=\"1\" class=\"dataframe\">\n  <thead>\n    <tr style=\"text-align: right;\">\n      <th></th>\n      <th>room_id</th>\n      <th>room_name</th>\n    </tr>\n  </thead>\n  <tbody>\n    <tr>\n      <th>0</th>\n      <td>1</td>\n      <td>sala nr 1</td>\n    </tr>\n    <tr>\n      <th>1</th>\n      <td>2</td>\n      <td>sala nr 2</td>\n    </tr>\n    <tr>\n      <th>2</th>\n      <td>3</td>\n      <td>sala nr 3</td>\n    </tr>\n    <tr>\n      <th>3</th>\n      <td>4</td>\n      <td>sala nr 4</td>\n    </tr>\n    <tr>\n      <th>4</th>\n      <td>5</td>\n      <td>sala nr 5</td>\n    </tr>\n    <tr>\n      <th>5</th>\n      <td>6</td>\n      <td>sala nr 6</td>\n    </tr>\n    <tr>\n      <th>6</th>\n      <td>7</td>\n      <td>sala nr 7</td>\n    </tr>\n    <tr>\n      <th>7</th>\n      <td>8</td>\n      <td>sala nr 8</td>\n    </tr>\n    <tr>\n      <th>8</th>\n      <td>9</td>\n      <td>sala nr 9</td>\n    </tr>\n    <tr>\n      <th>9</th>\n      <td>10</td>\n      <td>sala nr 10</td>\n    </tr>\n    <tr>\n      <th>10</th>\n      <td>11</td>\n      <td>sala nr 11</td>\n    </tr>\n    <tr>\n      <th>11</th>\n      <td>12</td>\n      <td>sala nr 12</td>\n    </tr>\n    <tr>\n      <th>12</th>\n      <td>13</td>\n      <td>sala nr 13</td>\n    </tr>\n    <tr>\n      <th>13</th>\n      <td>14</td>\n      <td>sala nr 14</td>\n    </tr>\n    <tr>\n      <th>14</th>\n      <td>15</td>\n      <td>sala nr 15</td>\n    </tr>\n    <tr>\n      <th>15</th>\n      <td>16</td>\n      <td>sala nr 16</td>\n    </tr>\n    <tr>\n      <th>16</th>\n      <td>17</td>\n      <td>sala nr 17</td>\n    </tr>\n    <tr>\n      <th>17</th>\n      <td>18</td>\n      <td>sala nr 18</td>\n    </tr>\n    <tr>\n      <th>18</th>\n      <td>19</td>\n      <td>sala nr 19</td>\n    </tr>\n    <tr>\n      <th>19</th>\n      <td>20</td>\n      <td>sala nr 20</td>\n    </tr>\n    <tr>\n      <th>20</th>\n      <td>21</td>\n      <td>sala nr 21</td>\n    </tr>\n  </tbody>\n</table>\n</div>"
     },
     "execution_count": 62,
     "metadata": {},
     "output_type": "execute_result"
    }
   ],
   "source": [
    "rooms = pd.read_csv('rooms.csv')\n",
    "rooms"
   ],
   "metadata": {
    "collapsed": false
   }
  },
  {
   "cell_type": "code",
   "execution_count": 63,
   "outputs": [
    {
     "data": {
      "text/plain": "   teacher_id       teacher_name\n0           1          Jan Nowak\n1           2      Lena Kowalska\n2           3   Mateusz Kowalski\n3           4   Zofia Wiśniewska\n4           5       Piotr Wójcik\n5           6  Karolina Kamińska\n6           7  Paweł Lewandowski\n7           8  Natalia Szymańska\n8           9     Dominik Kaczor\n9          10    Katarzyna Mazur",
      "text/html": "<div>\n<style scoped>\n    .dataframe tbody tr th:only-of-type {\n        vertical-align: middle;\n    }\n\n    .dataframe tbody tr th {\n        vertical-align: top;\n    }\n\n    .dataframe thead th {\n        text-align: right;\n    }\n</style>\n<table border=\"1\" class=\"dataframe\">\n  <thead>\n    <tr style=\"text-align: right;\">\n      <th></th>\n      <th>teacher_id</th>\n      <th>teacher_name</th>\n    </tr>\n  </thead>\n  <tbody>\n    <tr>\n      <th>0</th>\n      <td>1</td>\n      <td>Jan Nowak</td>\n    </tr>\n    <tr>\n      <th>1</th>\n      <td>2</td>\n      <td>Lena Kowalska</td>\n    </tr>\n    <tr>\n      <th>2</th>\n      <td>3</td>\n      <td>Mateusz Kowalski</td>\n    </tr>\n    <tr>\n      <th>3</th>\n      <td>4</td>\n      <td>Zofia Wiśniewska</td>\n    </tr>\n    <tr>\n      <th>4</th>\n      <td>5</td>\n      <td>Piotr Wójcik</td>\n    </tr>\n    <tr>\n      <th>5</th>\n      <td>6</td>\n      <td>Karolina Kamińska</td>\n    </tr>\n    <tr>\n      <th>6</th>\n      <td>7</td>\n      <td>Paweł Lewandowski</td>\n    </tr>\n    <tr>\n      <th>7</th>\n      <td>8</td>\n      <td>Natalia Szymańska</td>\n    </tr>\n    <tr>\n      <th>8</th>\n      <td>9</td>\n      <td>Dominik Kaczor</td>\n    </tr>\n    <tr>\n      <th>9</th>\n      <td>10</td>\n      <td>Katarzyna Mazur</td>\n    </tr>\n  </tbody>\n</table>\n</div>"
     },
     "execution_count": 63,
     "metadata": {},
     "output_type": "execute_result"
    }
   ],
   "source": [
    "teachers = pd.read_csv('teachers.csv')\n",
    "teachers"
   ],
   "metadata": {
    "collapsed": false
   }
  },
  {
   "cell_type": "code",
   "execution_count": 64,
   "outputs": [
    {
     "data": {
      "text/plain": "   subject_id         subject_name  subject_teacher  times_in_week\n0           1         Język polski                1              4\n1           2      Język angielski                2              4\n2           3      Język niemiecki                3              2\n3           4  Wychowanie fizyczne                4              3\n4           5             Biologia                5              2\n5           6               Chemia                6              2\n6           7           Matematyka                7              5\n7           8            Geografia                8              2\n8           9          Informatyka                9              5\n9          10               Fizyka               10              4",
      "text/html": "<div>\n<style scoped>\n    .dataframe tbody tr th:only-of-type {\n        vertical-align: middle;\n    }\n\n    .dataframe tbody tr th {\n        vertical-align: top;\n    }\n\n    .dataframe thead th {\n        text-align: right;\n    }\n</style>\n<table border=\"1\" class=\"dataframe\">\n  <thead>\n    <tr style=\"text-align: right;\">\n      <th></th>\n      <th>subject_id</th>\n      <th>subject_name</th>\n      <th>subject_teacher</th>\n      <th>times_in_week</th>\n    </tr>\n  </thead>\n  <tbody>\n    <tr>\n      <th>0</th>\n      <td>1</td>\n      <td>Język polski</td>\n      <td>1</td>\n      <td>4</td>\n    </tr>\n    <tr>\n      <th>1</th>\n      <td>2</td>\n      <td>Język angielski</td>\n      <td>2</td>\n      <td>4</td>\n    </tr>\n    <tr>\n      <th>2</th>\n      <td>3</td>\n      <td>Język niemiecki</td>\n      <td>3</td>\n      <td>2</td>\n    </tr>\n    <tr>\n      <th>3</th>\n      <td>4</td>\n      <td>Wychowanie fizyczne</td>\n      <td>4</td>\n      <td>3</td>\n    </tr>\n    <tr>\n      <th>4</th>\n      <td>5</td>\n      <td>Biologia</td>\n      <td>5</td>\n      <td>2</td>\n    </tr>\n    <tr>\n      <th>5</th>\n      <td>6</td>\n      <td>Chemia</td>\n      <td>6</td>\n      <td>2</td>\n    </tr>\n    <tr>\n      <th>6</th>\n      <td>7</td>\n      <td>Matematyka</td>\n      <td>7</td>\n      <td>5</td>\n    </tr>\n    <tr>\n      <th>7</th>\n      <td>8</td>\n      <td>Geografia</td>\n      <td>8</td>\n      <td>2</td>\n    </tr>\n    <tr>\n      <th>8</th>\n      <td>9</td>\n      <td>Informatyka</td>\n      <td>9</td>\n      <td>5</td>\n    </tr>\n    <tr>\n      <th>9</th>\n      <td>10</td>\n      <td>Fizyka</td>\n      <td>10</td>\n      <td>4</td>\n    </tr>\n  </tbody>\n</table>\n</div>"
     },
     "execution_count": 64,
     "metadata": {},
     "output_type": "execute_result"
    }
   ],
   "source": [
    "subjects = pd.read_csv('subjects.csv')\n",
    "subjects"
   ],
   "metadata": {
    "collapsed": false
   }
  }
 ],
 "metadata": {
  "kernelspec": {
   "display_name": "Python 3",
   "language": "python",
   "name": "python3"
  },
  "language_info": {
   "codemirror_mode": {
    "name": "ipython",
    "version": 2
   },
   "file_extension": ".py",
   "mimetype": "text/x-python",
   "name": "python",
   "nbconvert_exporter": "python",
   "pygments_lexer": "ipython2",
   "version": "2.7.6"
  }
 },
 "nbformat": 4,
 "nbformat_minor": 0
}
