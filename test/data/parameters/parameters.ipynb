{
 "cells": [
  {
   "cell_type": "code",
   "execution_count": 2,
   "outputs": [
    {
     "name": "stdout",
     "output_type": "stream",
     "text": [
      "alpha_large.csv\n"
     ]
    },
    {
     "data": {
      "text/plain": "           parametr        value\n0  cooling_schedule  exponential\n1   temperature_max          150\n2   temperature_min            5\n3             k_max           20\n4             alpha        0.999\n5    max_iterations         5000\n6          neighbor         TRUE",
      "text/html": "<div>\n<style scoped>\n    .dataframe tbody tr th:only-of-type {\n        vertical-align: middle;\n    }\n\n    .dataframe tbody tr th {\n        vertical-align: top;\n    }\n\n    .dataframe thead th {\n        text-align: right;\n    }\n</style>\n<table border=\"1\" class=\"dataframe\">\n  <thead>\n    <tr style=\"text-align: right;\">\n      <th></th>\n      <th>parametr</th>\n      <th>value</th>\n    </tr>\n  </thead>\n  <tbody>\n    <tr>\n      <th>0</th>\n      <td>cooling_schedule</td>\n      <td>exponential</td>\n    </tr>\n    <tr>\n      <th>1</th>\n      <td>temperature_max</td>\n      <td>150</td>\n    </tr>\n    <tr>\n      <th>2</th>\n      <td>temperature_min</td>\n      <td>5</td>\n    </tr>\n    <tr>\n      <th>3</th>\n      <td>k_max</td>\n      <td>20</td>\n    </tr>\n    <tr>\n      <th>4</th>\n      <td>alpha</td>\n      <td>0.999</td>\n    </tr>\n    <tr>\n      <th>5</th>\n      <td>max_iterations</td>\n      <td>5000</td>\n    </tr>\n    <tr>\n      <th>6</th>\n      <td>neighbor</td>\n      <td>TRUE</td>\n    </tr>\n  </tbody>\n</table>\n</div>"
     },
     "metadata": {},
     "output_type": "display_data"
    },
    {
     "name": "stdout",
     "output_type": "stream",
     "text": [
      "alpha_medium.csv\n"
     ]
    },
    {
     "data": {
      "text/plain": "           parametr        value\n0  cooling_schedule  exponential\n1   temperature_max          150\n2   temperature_min            5\n3             k_max           20\n4             alpha         0.99\n5    max_iterations         5000\n6          neighbor         TRUE",
      "text/html": "<div>\n<style scoped>\n    .dataframe tbody tr th:only-of-type {\n        vertical-align: middle;\n    }\n\n    .dataframe tbody tr th {\n        vertical-align: top;\n    }\n\n    .dataframe thead th {\n        text-align: right;\n    }\n</style>\n<table border=\"1\" class=\"dataframe\">\n  <thead>\n    <tr style=\"text-align: right;\">\n      <th></th>\n      <th>parametr</th>\n      <th>value</th>\n    </tr>\n  </thead>\n  <tbody>\n    <tr>\n      <th>0</th>\n      <td>cooling_schedule</td>\n      <td>exponential</td>\n    </tr>\n    <tr>\n      <th>1</th>\n      <td>temperature_max</td>\n      <td>150</td>\n    </tr>\n    <tr>\n      <th>2</th>\n      <td>temperature_min</td>\n      <td>5</td>\n    </tr>\n    <tr>\n      <th>3</th>\n      <td>k_max</td>\n      <td>20</td>\n    </tr>\n    <tr>\n      <th>4</th>\n      <td>alpha</td>\n      <td>0.99</td>\n    </tr>\n    <tr>\n      <th>5</th>\n      <td>max_iterations</td>\n      <td>5000</td>\n    </tr>\n    <tr>\n      <th>6</th>\n      <td>neighbor</td>\n      <td>TRUE</td>\n    </tr>\n  </tbody>\n</table>\n</div>"
     },
     "metadata": {},
     "output_type": "display_data"
    },
    {
     "name": "stdout",
     "output_type": "stream",
     "text": [
      "alpha_small.csv\n"
     ]
    },
    {
     "data": {
      "text/plain": "           parametr        value\n0  cooling_schedule  exponential\n1   temperature_max          150\n2   temperature_min            5\n3             k_max           20\n4             alpha         0.91\n5    max_iterations         5000\n6          neighbor         TRUE",
      "text/html": "<div>\n<style scoped>\n    .dataframe tbody tr th:only-of-type {\n        vertical-align: middle;\n    }\n\n    .dataframe tbody tr th {\n        vertical-align: top;\n    }\n\n    .dataframe thead th {\n        text-align: right;\n    }\n</style>\n<table border=\"1\" class=\"dataframe\">\n  <thead>\n    <tr style=\"text-align: right;\">\n      <th></th>\n      <th>parametr</th>\n      <th>value</th>\n    </tr>\n  </thead>\n  <tbody>\n    <tr>\n      <th>0</th>\n      <td>cooling_schedule</td>\n      <td>exponential</td>\n    </tr>\n    <tr>\n      <th>1</th>\n      <td>temperature_max</td>\n      <td>150</td>\n    </tr>\n    <tr>\n      <th>2</th>\n      <td>temperature_min</td>\n      <td>5</td>\n    </tr>\n    <tr>\n      <th>3</th>\n      <td>k_max</td>\n      <td>20</td>\n    </tr>\n    <tr>\n      <th>4</th>\n      <td>alpha</td>\n      <td>0.91</td>\n    </tr>\n    <tr>\n      <th>5</th>\n      <td>max_iterations</td>\n      <td>5000</td>\n    </tr>\n    <tr>\n      <th>6</th>\n      <td>neighbor</td>\n      <td>TRUE</td>\n    </tr>\n  </tbody>\n</table>\n</div>"
     },
     "metadata": {},
     "output_type": "display_data"
    },
    {
     "name": "stdout",
     "output_type": "stream",
     "text": [
      "cooling_schedule_boltzmann.csv\n"
     ]
    },
    {
     "data": {
      "text/plain": "           parametr      value\n0  cooling_schedule  boltzmann\n1   temperature_max        150\n2   temperature_min          5\n3             k_max         20\n4             alpha       0.99\n5    max_iterations       5000\n6          neighbor       TRUE",
      "text/html": "<div>\n<style scoped>\n    .dataframe tbody tr th:only-of-type {\n        vertical-align: middle;\n    }\n\n    .dataframe tbody tr th {\n        vertical-align: top;\n    }\n\n    .dataframe thead th {\n        text-align: right;\n    }\n</style>\n<table border=\"1\" class=\"dataframe\">\n  <thead>\n    <tr style=\"text-align: right;\">\n      <th></th>\n      <th>parametr</th>\n      <th>value</th>\n    </tr>\n  </thead>\n  <tbody>\n    <tr>\n      <th>0</th>\n      <td>cooling_schedule</td>\n      <td>boltzmann</td>\n    </tr>\n    <tr>\n      <th>1</th>\n      <td>temperature_max</td>\n      <td>150</td>\n    </tr>\n    <tr>\n      <th>2</th>\n      <td>temperature_min</td>\n      <td>5</td>\n    </tr>\n    <tr>\n      <th>3</th>\n      <td>k_max</td>\n      <td>20</td>\n    </tr>\n    <tr>\n      <th>4</th>\n      <td>alpha</td>\n      <td>0.99</td>\n    </tr>\n    <tr>\n      <th>5</th>\n      <td>max_iterations</td>\n      <td>5000</td>\n    </tr>\n    <tr>\n      <th>6</th>\n      <td>neighbor</td>\n      <td>TRUE</td>\n    </tr>\n  </tbody>\n</table>\n</div>"
     },
     "metadata": {},
     "output_type": "display_data"
    },
    {
     "name": "stdout",
     "output_type": "stream",
     "text": [
      "cooling_schedule_cauchy.csv\n"
     ]
    },
    {
     "data": {
      "text/plain": "           parametr   value\n0  cooling_schedule  cauchy\n1   temperature_max     150\n2   temperature_min       5\n3             k_max      20\n4             alpha    0.99\n5    max_iterations    5000\n6          neighbor    TRUE",
      "text/html": "<div>\n<style scoped>\n    .dataframe tbody tr th:only-of-type {\n        vertical-align: middle;\n    }\n\n    .dataframe tbody tr th {\n        vertical-align: top;\n    }\n\n    .dataframe thead th {\n        text-align: right;\n    }\n</style>\n<table border=\"1\" class=\"dataframe\">\n  <thead>\n    <tr style=\"text-align: right;\">\n      <th></th>\n      <th>parametr</th>\n      <th>value</th>\n    </tr>\n  </thead>\n  <tbody>\n    <tr>\n      <th>0</th>\n      <td>cooling_schedule</td>\n      <td>cauchy</td>\n    </tr>\n    <tr>\n      <th>1</th>\n      <td>temperature_max</td>\n      <td>150</td>\n    </tr>\n    <tr>\n      <th>2</th>\n      <td>temperature_min</td>\n      <td>5</td>\n    </tr>\n    <tr>\n      <th>3</th>\n      <td>k_max</td>\n      <td>20</td>\n    </tr>\n    <tr>\n      <th>4</th>\n      <td>alpha</td>\n      <td>0.99</td>\n    </tr>\n    <tr>\n      <th>5</th>\n      <td>max_iterations</td>\n      <td>5000</td>\n    </tr>\n    <tr>\n      <th>6</th>\n      <td>neighbor</td>\n      <td>TRUE</td>\n    </tr>\n  </tbody>\n</table>\n</div>"
     },
     "metadata": {},
     "output_type": "display_data"
    },
    {
     "name": "stdout",
     "output_type": "stream",
     "text": [
      "cooling_schedule_exponential.csv\n"
     ]
    },
    {
     "data": {
      "text/plain": "           parametr        value\n0  cooling_schedule  exponential\n1   temperature_max          150\n2   temperature_min            5\n3             k_max           20\n4             alpha         0.99\n5    max_iterations         5000\n6          neighbor         TRUE",
      "text/html": "<div>\n<style scoped>\n    .dataframe tbody tr th:only-of-type {\n        vertical-align: middle;\n    }\n\n    .dataframe tbody tr th {\n        vertical-align: top;\n    }\n\n    .dataframe thead th {\n        text-align: right;\n    }\n</style>\n<table border=\"1\" class=\"dataframe\">\n  <thead>\n    <tr style=\"text-align: right;\">\n      <th></th>\n      <th>parametr</th>\n      <th>value</th>\n    </tr>\n  </thead>\n  <tbody>\n    <tr>\n      <th>0</th>\n      <td>cooling_schedule</td>\n      <td>exponential</td>\n    </tr>\n    <tr>\n      <th>1</th>\n      <td>temperature_max</td>\n      <td>150</td>\n    </tr>\n    <tr>\n      <th>2</th>\n      <td>temperature_min</td>\n      <td>5</td>\n    </tr>\n    <tr>\n      <th>3</th>\n      <td>k_max</td>\n      <td>20</td>\n    </tr>\n    <tr>\n      <th>4</th>\n      <td>alpha</td>\n      <td>0.99</td>\n    </tr>\n    <tr>\n      <th>5</th>\n      <td>max_iterations</td>\n      <td>5000</td>\n    </tr>\n    <tr>\n      <th>6</th>\n      <td>neighbor</td>\n      <td>TRUE</td>\n    </tr>\n  </tbody>\n</table>\n</div>"
     },
     "metadata": {},
     "output_type": "display_data"
    },
    {
     "name": "stdout",
     "output_type": "stream",
     "text": [
      "cooling_schedule_linear.csv\n"
     ]
    },
    {
     "data": {
      "text/plain": "           parametr   value\n0  cooling_schedule  linear\n1   temperature_max     150\n2   temperature_min       5\n3             k_max      20\n4             alpha    0.99\n5    max_iterations    5000\n6          neighbor    TRUE",
      "text/html": "<div>\n<style scoped>\n    .dataframe tbody tr th:only-of-type {\n        vertical-align: middle;\n    }\n\n    .dataframe tbody tr th {\n        vertical-align: top;\n    }\n\n    .dataframe thead th {\n        text-align: right;\n    }\n</style>\n<table border=\"1\" class=\"dataframe\">\n  <thead>\n    <tr style=\"text-align: right;\">\n      <th></th>\n      <th>parametr</th>\n      <th>value</th>\n    </tr>\n  </thead>\n  <tbody>\n    <tr>\n      <th>0</th>\n      <td>cooling_schedule</td>\n      <td>linear</td>\n    </tr>\n    <tr>\n      <th>1</th>\n      <td>temperature_max</td>\n      <td>150</td>\n    </tr>\n    <tr>\n      <th>2</th>\n      <td>temperature_min</td>\n      <td>5</td>\n    </tr>\n    <tr>\n      <th>3</th>\n      <td>k_max</td>\n      <td>20</td>\n    </tr>\n    <tr>\n      <th>4</th>\n      <td>alpha</td>\n      <td>0.99</td>\n    </tr>\n    <tr>\n      <th>5</th>\n      <td>max_iterations</td>\n      <td>5000</td>\n    </tr>\n    <tr>\n      <th>6</th>\n      <td>neighbor</td>\n      <td>TRUE</td>\n    </tr>\n  </tbody>\n</table>\n</div>"
     },
     "metadata": {},
     "output_type": "display_data"
    },
    {
     "name": "stdout",
     "output_type": "stream",
     "text": [
      "cooling_schedule_logarithmic.csv\n"
     ]
    },
    {
     "data": {
      "text/plain": "           parametr        value\n0  cooling_schedule  logarithmic\n1   temperature_max          150\n2   temperature_min            5\n3             k_max           20\n4             alpha         0.99\n5    max_iterations         5000\n6          neighbor         TRUE",
      "text/html": "<div>\n<style scoped>\n    .dataframe tbody tr th:only-of-type {\n        vertical-align: middle;\n    }\n\n    .dataframe tbody tr th {\n        vertical-align: top;\n    }\n\n    .dataframe thead th {\n        text-align: right;\n    }\n</style>\n<table border=\"1\" class=\"dataframe\">\n  <thead>\n    <tr style=\"text-align: right;\">\n      <th></th>\n      <th>parametr</th>\n      <th>value</th>\n    </tr>\n  </thead>\n  <tbody>\n    <tr>\n      <th>0</th>\n      <td>cooling_schedule</td>\n      <td>logarithmic</td>\n    </tr>\n    <tr>\n      <th>1</th>\n      <td>temperature_max</td>\n      <td>150</td>\n    </tr>\n    <tr>\n      <th>2</th>\n      <td>temperature_min</td>\n      <td>5</td>\n    </tr>\n    <tr>\n      <th>3</th>\n      <td>k_max</td>\n      <td>20</td>\n    </tr>\n    <tr>\n      <th>4</th>\n      <td>alpha</td>\n      <td>0.99</td>\n    </tr>\n    <tr>\n      <th>5</th>\n      <td>max_iterations</td>\n      <td>5000</td>\n    </tr>\n    <tr>\n      <th>6</th>\n      <td>neighbor</td>\n      <td>TRUE</td>\n    </tr>\n  </tbody>\n</table>\n</div>"
     },
     "metadata": {},
     "output_type": "display_data"
    },
    {
     "name": "stdout",
     "output_type": "stream",
     "text": [
      "cooling_schedule_quadratic.csv\n"
     ]
    },
    {
     "data": {
      "text/plain": "           parametr      value\n0  cooling_schedule  quadratic\n1   temperature_max        150\n2   temperature_min          5\n3             k_max         20\n4             alpha       0.99\n5    max_iterations       5000\n6          neighbor       TRUE",
      "text/html": "<div>\n<style scoped>\n    .dataframe tbody tr th:only-of-type {\n        vertical-align: middle;\n    }\n\n    .dataframe tbody tr th {\n        vertical-align: top;\n    }\n\n    .dataframe thead th {\n        text-align: right;\n    }\n</style>\n<table border=\"1\" class=\"dataframe\">\n  <thead>\n    <tr style=\"text-align: right;\">\n      <th></th>\n      <th>parametr</th>\n      <th>value</th>\n    </tr>\n  </thead>\n  <tbody>\n    <tr>\n      <th>0</th>\n      <td>cooling_schedule</td>\n      <td>quadratic</td>\n    </tr>\n    <tr>\n      <th>1</th>\n      <td>temperature_max</td>\n      <td>150</td>\n    </tr>\n    <tr>\n      <th>2</th>\n      <td>temperature_min</td>\n      <td>5</td>\n    </tr>\n    <tr>\n      <th>3</th>\n      <td>k_max</td>\n      <td>20</td>\n    </tr>\n    <tr>\n      <th>4</th>\n      <td>alpha</td>\n      <td>0.99</td>\n    </tr>\n    <tr>\n      <th>5</th>\n      <td>max_iterations</td>\n      <td>5000</td>\n    </tr>\n    <tr>\n      <th>6</th>\n      <td>neighbor</td>\n      <td>TRUE</td>\n    </tr>\n  </tbody>\n</table>\n</div>"
     },
     "metadata": {},
     "output_type": "display_data"
    },
    {
     "name": "stdout",
     "output_type": "stream",
     "text": [
      "iteration_at_given_temperature_large.csv\n"
     ]
    },
    {
     "data": {
      "text/plain": "           parametr        value\n0  cooling_schedule  exponential\n1   temperature_max          150\n2   temperature_min            5\n3             k_max          150\n4             alpha         0.99\n5    max_iterations         5000\n6          neighbor         TRUE",
      "text/html": "<div>\n<style scoped>\n    .dataframe tbody tr th:only-of-type {\n        vertical-align: middle;\n    }\n\n    .dataframe tbody tr th {\n        vertical-align: top;\n    }\n\n    .dataframe thead th {\n        text-align: right;\n    }\n</style>\n<table border=\"1\" class=\"dataframe\">\n  <thead>\n    <tr style=\"text-align: right;\">\n      <th></th>\n      <th>parametr</th>\n      <th>value</th>\n    </tr>\n  </thead>\n  <tbody>\n    <tr>\n      <th>0</th>\n      <td>cooling_schedule</td>\n      <td>exponential</td>\n    </tr>\n    <tr>\n      <th>1</th>\n      <td>temperature_max</td>\n      <td>150</td>\n    </tr>\n    <tr>\n      <th>2</th>\n      <td>temperature_min</td>\n      <td>5</td>\n    </tr>\n    <tr>\n      <th>3</th>\n      <td>k_max</td>\n      <td>150</td>\n    </tr>\n    <tr>\n      <th>4</th>\n      <td>alpha</td>\n      <td>0.99</td>\n    </tr>\n    <tr>\n      <th>5</th>\n      <td>max_iterations</td>\n      <td>5000</td>\n    </tr>\n    <tr>\n      <th>6</th>\n      <td>neighbor</td>\n      <td>TRUE</td>\n    </tr>\n  </tbody>\n</table>\n</div>"
     },
     "metadata": {},
     "output_type": "display_data"
    },
    {
     "name": "stdout",
     "output_type": "stream",
     "text": [
      "iteration_at_given_temperature_medium.csv\n"
     ]
    },
    {
     "data": {
      "text/plain": "           parametr        value\n0  cooling_schedule  exponential\n1   temperature_max          150\n2   temperature_min            5\n3             k_max           75\n4             alpha         0.99\n5    max_iterations         5000\n6          neighbor         TRUE",
      "text/html": "<div>\n<style scoped>\n    .dataframe tbody tr th:only-of-type {\n        vertical-align: middle;\n    }\n\n    .dataframe tbody tr th {\n        vertical-align: top;\n    }\n\n    .dataframe thead th {\n        text-align: right;\n    }\n</style>\n<table border=\"1\" class=\"dataframe\">\n  <thead>\n    <tr style=\"text-align: right;\">\n      <th></th>\n      <th>parametr</th>\n      <th>value</th>\n    </tr>\n  </thead>\n  <tbody>\n    <tr>\n      <th>0</th>\n      <td>cooling_schedule</td>\n      <td>exponential</td>\n    </tr>\n    <tr>\n      <th>1</th>\n      <td>temperature_max</td>\n      <td>150</td>\n    </tr>\n    <tr>\n      <th>2</th>\n      <td>temperature_min</td>\n      <td>5</td>\n    </tr>\n    <tr>\n      <th>3</th>\n      <td>k_max</td>\n      <td>75</td>\n    </tr>\n    <tr>\n      <th>4</th>\n      <td>alpha</td>\n      <td>0.99</td>\n    </tr>\n    <tr>\n      <th>5</th>\n      <td>max_iterations</td>\n      <td>5000</td>\n    </tr>\n    <tr>\n      <th>6</th>\n      <td>neighbor</td>\n      <td>TRUE</td>\n    </tr>\n  </tbody>\n</table>\n</div>"
     },
     "metadata": {},
     "output_type": "display_data"
    },
    {
     "name": "stdout",
     "output_type": "stream",
     "text": [
      "iteration_at_given_temperature_small.csv\n"
     ]
    },
    {
     "data": {
      "text/plain": "           parametr        value\n0  cooling_schedule  exponential\n1   temperature_max           25\n2   temperature_min            5\n3             k_max           20\n4             alpha         0.99\n5    max_iterations         5000\n6          neighbor         TRUE",
      "text/html": "<div>\n<style scoped>\n    .dataframe tbody tr th:only-of-type {\n        vertical-align: middle;\n    }\n\n    .dataframe tbody tr th {\n        vertical-align: top;\n    }\n\n    .dataframe thead th {\n        text-align: right;\n    }\n</style>\n<table border=\"1\" class=\"dataframe\">\n  <thead>\n    <tr style=\"text-align: right;\">\n      <th></th>\n      <th>parametr</th>\n      <th>value</th>\n    </tr>\n  </thead>\n  <tbody>\n    <tr>\n      <th>0</th>\n      <td>cooling_schedule</td>\n      <td>exponential</td>\n    </tr>\n    <tr>\n      <th>1</th>\n      <td>temperature_max</td>\n      <td>25</td>\n    </tr>\n    <tr>\n      <th>2</th>\n      <td>temperature_min</td>\n      <td>5</td>\n    </tr>\n    <tr>\n      <th>3</th>\n      <td>k_max</td>\n      <td>20</td>\n    </tr>\n    <tr>\n      <th>4</th>\n      <td>alpha</td>\n      <td>0.99</td>\n    </tr>\n    <tr>\n      <th>5</th>\n      <td>max_iterations</td>\n      <td>5000</td>\n    </tr>\n    <tr>\n      <th>6</th>\n      <td>neighbor</td>\n      <td>TRUE</td>\n    </tr>\n  </tbody>\n</table>\n</div>"
     },
     "metadata": {},
     "output_type": "display_data"
    },
    {
     "name": "stdout",
     "output_type": "stream",
     "text": [
      "neighbour_without_swap.csv\n"
     ]
    },
    {
     "data": {
      "text/plain": "           parametr        value\n0  cooling_schedule  exponential\n1   temperature_max          150\n2   temperature_min            5\n3             k_max           20\n4             alpha         0.99\n5    max_iterations         5000\n6          neighbor        FALSE",
      "text/html": "<div>\n<style scoped>\n    .dataframe tbody tr th:only-of-type {\n        vertical-align: middle;\n    }\n\n    .dataframe tbody tr th {\n        vertical-align: top;\n    }\n\n    .dataframe thead th {\n        text-align: right;\n    }\n</style>\n<table border=\"1\" class=\"dataframe\">\n  <thead>\n    <tr style=\"text-align: right;\">\n      <th></th>\n      <th>parametr</th>\n      <th>value</th>\n    </tr>\n  </thead>\n  <tbody>\n    <tr>\n      <th>0</th>\n      <td>cooling_schedule</td>\n      <td>exponential</td>\n    </tr>\n    <tr>\n      <th>1</th>\n      <td>temperature_max</td>\n      <td>150</td>\n    </tr>\n    <tr>\n      <th>2</th>\n      <td>temperature_min</td>\n      <td>5</td>\n    </tr>\n    <tr>\n      <th>3</th>\n      <td>k_max</td>\n      <td>20</td>\n    </tr>\n    <tr>\n      <th>4</th>\n      <td>alpha</td>\n      <td>0.99</td>\n    </tr>\n    <tr>\n      <th>5</th>\n      <td>max_iterations</td>\n      <td>5000</td>\n    </tr>\n    <tr>\n      <th>6</th>\n      <td>neighbor</td>\n      <td>FALSE</td>\n    </tr>\n  </tbody>\n</table>\n</div>"
     },
     "metadata": {},
     "output_type": "display_data"
    },
    {
     "name": "stdout",
     "output_type": "stream",
     "text": [
      "neighbour_with_swap.csv\n"
     ]
    },
    {
     "data": {
      "text/plain": "           parametr        value\n0  cooling_schedule  exponential\n1   temperature_max          150\n2   temperature_min            5\n3             k_max           20\n4             alpha         0.99\n5    max_iterations         5000\n6          neighbor         TRUE",
      "text/html": "<div>\n<style scoped>\n    .dataframe tbody tr th:only-of-type {\n        vertical-align: middle;\n    }\n\n    .dataframe tbody tr th {\n        vertical-align: top;\n    }\n\n    .dataframe thead th {\n        text-align: right;\n    }\n</style>\n<table border=\"1\" class=\"dataframe\">\n  <thead>\n    <tr style=\"text-align: right;\">\n      <th></th>\n      <th>parametr</th>\n      <th>value</th>\n    </tr>\n  </thead>\n  <tbody>\n    <tr>\n      <th>0</th>\n      <td>cooling_schedule</td>\n      <td>exponential</td>\n    </tr>\n    <tr>\n      <th>1</th>\n      <td>temperature_max</td>\n      <td>150</td>\n    </tr>\n    <tr>\n      <th>2</th>\n      <td>temperature_min</td>\n      <td>5</td>\n    </tr>\n    <tr>\n      <th>3</th>\n      <td>k_max</td>\n      <td>20</td>\n    </tr>\n    <tr>\n      <th>4</th>\n      <td>alpha</td>\n      <td>0.99</td>\n    </tr>\n    <tr>\n      <th>5</th>\n      <td>max_iterations</td>\n      <td>5000</td>\n    </tr>\n    <tr>\n      <th>6</th>\n      <td>neighbor</td>\n      <td>TRUE</td>\n    </tr>\n  </tbody>\n</table>\n</div>"
     },
     "metadata": {},
     "output_type": "display_data"
    },
    {
     "name": "stdout",
     "output_type": "stream",
     "text": [
      "temperature_parametr_large_range.csv\n"
     ]
    },
    {
     "data": {
      "text/plain": "           parametr        value\n0  cooling_schedule  exponential\n1   temperature_max         1000\n2   temperature_min          100\n3             k_max           20\n4             alpha         0.99\n5    max_iterations         5000\n6          neighbor         TRUE",
      "text/html": "<div>\n<style scoped>\n    .dataframe tbody tr th:only-of-type {\n        vertical-align: middle;\n    }\n\n    .dataframe tbody tr th {\n        vertical-align: top;\n    }\n\n    .dataframe thead th {\n        text-align: right;\n    }\n</style>\n<table border=\"1\" class=\"dataframe\">\n  <thead>\n    <tr style=\"text-align: right;\">\n      <th></th>\n      <th>parametr</th>\n      <th>value</th>\n    </tr>\n  </thead>\n  <tbody>\n    <tr>\n      <th>0</th>\n      <td>cooling_schedule</td>\n      <td>exponential</td>\n    </tr>\n    <tr>\n      <th>1</th>\n      <td>temperature_max</td>\n      <td>1000</td>\n    </tr>\n    <tr>\n      <th>2</th>\n      <td>temperature_min</td>\n      <td>100</td>\n    </tr>\n    <tr>\n      <th>3</th>\n      <td>k_max</td>\n      <td>20</td>\n    </tr>\n    <tr>\n      <th>4</th>\n      <td>alpha</td>\n      <td>0.99</td>\n    </tr>\n    <tr>\n      <th>5</th>\n      <td>max_iterations</td>\n      <td>5000</td>\n    </tr>\n    <tr>\n      <th>6</th>\n      <td>neighbor</td>\n      <td>TRUE</td>\n    </tr>\n  </tbody>\n</table>\n</div>"
     },
     "metadata": {},
     "output_type": "display_data"
    },
    {
     "name": "stdout",
     "output_type": "stream",
     "text": [
      "temperature_parametr_medium_range.csv\n"
     ]
    },
    {
     "data": {
      "text/plain": "           parametr        value\n0  cooling_schedule  exponential\n1   temperature_max          200\n2   temperature_min           20\n3             k_max           20\n4             alpha         0.99\n5    max_iterations         5000\n6          neighbor         TRUE",
      "text/html": "<div>\n<style scoped>\n    .dataframe tbody tr th:only-of-type {\n        vertical-align: middle;\n    }\n\n    .dataframe tbody tr th {\n        vertical-align: top;\n    }\n\n    .dataframe thead th {\n        text-align: right;\n    }\n</style>\n<table border=\"1\" class=\"dataframe\">\n  <thead>\n    <tr style=\"text-align: right;\">\n      <th></th>\n      <th>parametr</th>\n      <th>value</th>\n    </tr>\n  </thead>\n  <tbody>\n    <tr>\n      <th>0</th>\n      <td>cooling_schedule</td>\n      <td>exponential</td>\n    </tr>\n    <tr>\n      <th>1</th>\n      <td>temperature_max</td>\n      <td>200</td>\n    </tr>\n    <tr>\n      <th>2</th>\n      <td>temperature_min</td>\n      <td>20</td>\n    </tr>\n    <tr>\n      <th>3</th>\n      <td>k_max</td>\n      <td>20</td>\n    </tr>\n    <tr>\n      <th>4</th>\n      <td>alpha</td>\n      <td>0.99</td>\n    </tr>\n    <tr>\n      <th>5</th>\n      <td>max_iterations</td>\n      <td>5000</td>\n    </tr>\n    <tr>\n      <th>6</th>\n      <td>neighbor</td>\n      <td>TRUE</td>\n    </tr>\n  </tbody>\n</table>\n</div>"
     },
     "metadata": {},
     "output_type": "display_data"
    },
    {
     "name": "stdout",
     "output_type": "stream",
     "text": [
      "temperature_parametr_small_range.csv\n"
     ]
    },
    {
     "data": {
      "text/plain": "           parametr        value\n0  cooling_schedule  exponential\n1   temperature_max           50\n2   temperature_min            5\n3             k_max           20\n4             alpha         0.99\n5    max_iterations         5000\n6          neighbor         TRUE",
      "text/html": "<div>\n<style scoped>\n    .dataframe tbody tr th:only-of-type {\n        vertical-align: middle;\n    }\n\n    .dataframe tbody tr th {\n        vertical-align: top;\n    }\n\n    .dataframe thead th {\n        text-align: right;\n    }\n</style>\n<table border=\"1\" class=\"dataframe\">\n  <thead>\n    <tr style=\"text-align: right;\">\n      <th></th>\n      <th>parametr</th>\n      <th>value</th>\n    </tr>\n  </thead>\n  <tbody>\n    <tr>\n      <th>0</th>\n      <td>cooling_schedule</td>\n      <td>exponential</td>\n    </tr>\n    <tr>\n      <th>1</th>\n      <td>temperature_max</td>\n      <td>50</td>\n    </tr>\n    <tr>\n      <th>2</th>\n      <td>temperature_min</td>\n      <td>5</td>\n    </tr>\n    <tr>\n      <th>3</th>\n      <td>k_max</td>\n      <td>20</td>\n    </tr>\n    <tr>\n      <th>4</th>\n      <td>alpha</td>\n      <td>0.99</td>\n    </tr>\n    <tr>\n      <th>5</th>\n      <td>max_iterations</td>\n      <td>5000</td>\n    </tr>\n    <tr>\n      <th>6</th>\n      <td>neighbor</td>\n      <td>TRUE</td>\n    </tr>\n  </tbody>\n</table>\n</div>"
     },
     "metadata": {},
     "output_type": "display_data"
    }
   ],
   "source": [
    "import os\n",
    "import pandas as pd\n",
    "\n",
    "for filename in os.listdir(os.curdir):\n",
    "    if filename == \"parameters.ipynb\":\n",
    "        pass\n",
    "\n",
    "    else:\n",
    "        print(filename)\n",
    "        parameters = pd.read_csv(filename)\n",
    "        display(parameters)"
   ],
   "metadata": {
    "collapsed": false
   }
  }
 ],
 "metadata": {
  "kernelspec": {
   "display_name": "Python 3",
   "language": "python",
   "name": "python3"
  },
  "language_info": {
   "codemirror_mode": {
    "name": "ipython",
    "version": 2
   },
   "file_extension": ".py",
   "mimetype": "text/x-python",
   "name": "python",
   "nbconvert_exporter": "python",
   "pygments_lexer": "ipython2",
   "version": "2.7.6"
  }
 },
 "nbformat": 4,
 "nbformat_minor": 0
}
