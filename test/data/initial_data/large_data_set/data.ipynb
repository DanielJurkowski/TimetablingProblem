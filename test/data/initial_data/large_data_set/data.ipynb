{
 "cells": [
  {
   "cell_type": "code",
   "execution_count": 6,
   "outputs": [],
   "source": [
    "import pandas as pd"
   ],
   "metadata": {
    "collapsed": false
   }
  },
  {
   "cell_type": "code",
   "execution_count": 7,
   "outputs": [
    {
     "data": {
      "text/plain": "   group_id group_name\n0         0         1a\n1         1         1b\n2         2         2a\n3         3         2b\n4         4         3a\n5         5         3b\n6         6         4a\n7         7         4b\n8         8         4c",
      "text/html": "<div>\n<style scoped>\n    .dataframe tbody tr th:only-of-type {\n        vertical-align: middle;\n    }\n\n    .dataframe tbody tr th {\n        vertical-align: top;\n    }\n\n    .dataframe thead th {\n        text-align: right;\n    }\n</style>\n<table border=\"1\" class=\"dataframe\">\n  <thead>\n    <tr style=\"text-align: right;\">\n      <th></th>\n      <th>group_id</th>\n      <th>group_name</th>\n    </tr>\n  </thead>\n  <tbody>\n    <tr>\n      <th>0</th>\n      <td>0</td>\n      <td>1a</td>\n    </tr>\n    <tr>\n      <th>1</th>\n      <td>1</td>\n      <td>1b</td>\n    </tr>\n    <tr>\n      <th>2</th>\n      <td>2</td>\n      <td>2a</td>\n    </tr>\n    <tr>\n      <th>3</th>\n      <td>3</td>\n      <td>2b</td>\n    </tr>\n    <tr>\n      <th>4</th>\n      <td>4</td>\n      <td>3a</td>\n    </tr>\n    <tr>\n      <th>5</th>\n      <td>5</td>\n      <td>3b</td>\n    </tr>\n    <tr>\n      <th>6</th>\n      <td>6</td>\n      <td>4a</td>\n    </tr>\n    <tr>\n      <th>7</th>\n      <td>7</td>\n      <td>4b</td>\n    </tr>\n    <tr>\n      <th>8</th>\n      <td>8</td>\n      <td>4c</td>\n    </tr>\n  </tbody>\n</table>\n</div>"
     },
     "execution_count": 7,
     "metadata": {},
     "output_type": "execute_result"
    }
   ],
   "source": [
    "groups = pd.read_csv('groups.csv')\n",
    "groups"
   ],
   "metadata": {
    "collapsed": false
   }
  },
  {
   "cell_type": "code",
   "execution_count": 8,
   "outputs": [
    {
     "data": {
      "text/plain": "    room_id   room_name\n0         0   sala nr 1\n1         1   sala nr 2\n2         2   sala nr 3\n3         3   sala nr 4\n4         4   sala nr 5\n5         5   sala nr 6\n6         6   sala nr 7\n7         7   sala nr 8\n8         8   sala nr 9\n9         9  sala nr 10\n10       10  sala nr 11\n11       11  sala nr 12\n12       12  sala nr 13",
      "text/html": "<div>\n<style scoped>\n    .dataframe tbody tr th:only-of-type {\n        vertical-align: middle;\n    }\n\n    .dataframe tbody tr th {\n        vertical-align: top;\n    }\n\n    .dataframe thead th {\n        text-align: right;\n    }\n</style>\n<table border=\"1\" class=\"dataframe\">\n  <thead>\n    <tr style=\"text-align: right;\">\n      <th></th>\n      <th>room_id</th>\n      <th>room_name</th>\n    </tr>\n  </thead>\n  <tbody>\n    <tr>\n      <th>0</th>\n      <td>0</td>\n      <td>sala nr 1</td>\n    </tr>\n    <tr>\n      <th>1</th>\n      <td>1</td>\n      <td>sala nr 2</td>\n    </tr>\n    <tr>\n      <th>2</th>\n      <td>2</td>\n      <td>sala nr 3</td>\n    </tr>\n    <tr>\n      <th>3</th>\n      <td>3</td>\n      <td>sala nr 4</td>\n    </tr>\n    <tr>\n      <th>4</th>\n      <td>4</td>\n      <td>sala nr 5</td>\n    </tr>\n    <tr>\n      <th>5</th>\n      <td>5</td>\n      <td>sala nr 6</td>\n    </tr>\n    <tr>\n      <th>6</th>\n      <td>6</td>\n      <td>sala nr 7</td>\n    </tr>\n    <tr>\n      <th>7</th>\n      <td>7</td>\n      <td>sala nr 8</td>\n    </tr>\n    <tr>\n      <th>8</th>\n      <td>8</td>\n      <td>sala nr 9</td>\n    </tr>\n    <tr>\n      <th>9</th>\n      <td>9</td>\n      <td>sala nr 10</td>\n    </tr>\n    <tr>\n      <th>10</th>\n      <td>10</td>\n      <td>sala nr 11</td>\n    </tr>\n    <tr>\n      <th>11</th>\n      <td>11</td>\n      <td>sala nr 12</td>\n    </tr>\n    <tr>\n      <th>12</th>\n      <td>12</td>\n      <td>sala nr 13</td>\n    </tr>\n  </tbody>\n</table>\n</div>"
     },
     "execution_count": 8,
     "metadata": {},
     "output_type": "execute_result"
    }
   ],
   "source": [
    "rooms = pd.read_csv('rooms.csv')\n",
    "rooms"
   ],
   "metadata": {
    "collapsed": false
   }
  },
  {
   "cell_type": "code",
   "execution_count": 9,
   "outputs": [
    {
     "data": {
      "text/plain": "    teacher_id           teacher_name\n0            0              Jan Nowak\n1            1          Lena Kowalska\n2            2       Mateusz Kowalski\n3            3       Zofia Wiśniewska\n4            4           Piotr Wójcik\n5            5      Karolina Kamińska\n6            6      Paweł Lewandowski\n7            7      Natalia Szymańska\n8            8         Dominik Kaczor\n9            9        Katarzyna Mazur\n10          10          Janusz Nosacz\n11          11  ?ukasz Stanis?awowski",
      "text/html": "<div>\n<style scoped>\n    .dataframe tbody tr th:only-of-type {\n        vertical-align: middle;\n    }\n\n    .dataframe tbody tr th {\n        vertical-align: top;\n    }\n\n    .dataframe thead th {\n        text-align: right;\n    }\n</style>\n<table border=\"1\" class=\"dataframe\">\n  <thead>\n    <tr style=\"text-align: right;\">\n      <th></th>\n      <th>teacher_id</th>\n      <th>teacher_name</th>\n    </tr>\n  </thead>\n  <tbody>\n    <tr>\n      <th>0</th>\n      <td>0</td>\n      <td>Jan Nowak</td>\n    </tr>\n    <tr>\n      <th>1</th>\n      <td>1</td>\n      <td>Lena Kowalska</td>\n    </tr>\n    <tr>\n      <th>2</th>\n      <td>2</td>\n      <td>Mateusz Kowalski</td>\n    </tr>\n    <tr>\n      <th>3</th>\n      <td>3</td>\n      <td>Zofia Wiśniewska</td>\n    </tr>\n    <tr>\n      <th>4</th>\n      <td>4</td>\n      <td>Piotr Wójcik</td>\n    </tr>\n    <tr>\n      <th>5</th>\n      <td>5</td>\n      <td>Karolina Kamińska</td>\n    </tr>\n    <tr>\n      <th>6</th>\n      <td>6</td>\n      <td>Paweł Lewandowski</td>\n    </tr>\n    <tr>\n      <th>7</th>\n      <td>7</td>\n      <td>Natalia Szymańska</td>\n    </tr>\n    <tr>\n      <th>8</th>\n      <td>8</td>\n      <td>Dominik Kaczor</td>\n    </tr>\n    <tr>\n      <th>9</th>\n      <td>9</td>\n      <td>Katarzyna Mazur</td>\n    </tr>\n    <tr>\n      <th>10</th>\n      <td>10</td>\n      <td>Janusz Nosacz</td>\n    </tr>\n    <tr>\n      <th>11</th>\n      <td>11</td>\n      <td>?ukasz Stanis?awowski</td>\n    </tr>\n  </tbody>\n</table>\n</div>"
     },
     "execution_count": 9,
     "metadata": {},
     "output_type": "execute_result"
    }
   ],
   "source": [
    "teachers = pd.read_csv('teachers.csv')\n",
    "teachers"
   ],
   "metadata": {
    "collapsed": false
   }
  },
  {
   "cell_type": "code",
   "execution_count": 10,
   "outputs": [
    {
     "data": {
      "text/plain": "    subject_id         subject_name  subject_teacher  times_in_week\n0            0         Język polski                0              3\n1            1      Język angielski                1              3\n2            2      Język niemiecki                2              2\n3            3  Wychowanie fizyczne                3              3\n4            4             Biologia                4              2\n5            5               Chemia                5              2\n6            6           Matematyka                6              5\n7            7            Geografia                7              2\n8            8          Informatyka                8              5\n9            9               Fizyka                9              3\n10          10             Plastyka               10              2\n11          11               Muzyka               11              2",
      "text/html": "<div>\n<style scoped>\n    .dataframe tbody tr th:only-of-type {\n        vertical-align: middle;\n    }\n\n    .dataframe tbody tr th {\n        vertical-align: top;\n    }\n\n    .dataframe thead th {\n        text-align: right;\n    }\n</style>\n<table border=\"1\" class=\"dataframe\">\n  <thead>\n    <tr style=\"text-align: right;\">\n      <th></th>\n      <th>subject_id</th>\n      <th>subject_name</th>\n      <th>subject_teacher</th>\n      <th>times_in_week</th>\n    </tr>\n  </thead>\n  <tbody>\n    <tr>\n      <th>0</th>\n      <td>0</td>\n      <td>Język polski</td>\n      <td>0</td>\n      <td>3</td>\n    </tr>\n    <tr>\n      <th>1</th>\n      <td>1</td>\n      <td>Język angielski</td>\n      <td>1</td>\n      <td>3</td>\n    </tr>\n    <tr>\n      <th>2</th>\n      <td>2</td>\n      <td>Język niemiecki</td>\n      <td>2</td>\n      <td>2</td>\n    </tr>\n    <tr>\n      <th>3</th>\n      <td>3</td>\n      <td>Wychowanie fizyczne</td>\n      <td>3</td>\n      <td>3</td>\n    </tr>\n    <tr>\n      <th>4</th>\n      <td>4</td>\n      <td>Biologia</td>\n      <td>4</td>\n      <td>2</td>\n    </tr>\n    <tr>\n      <th>5</th>\n      <td>5</td>\n      <td>Chemia</td>\n      <td>5</td>\n      <td>2</td>\n    </tr>\n    <tr>\n      <th>6</th>\n      <td>6</td>\n      <td>Matematyka</td>\n      <td>6</td>\n      <td>5</td>\n    </tr>\n    <tr>\n      <th>7</th>\n      <td>7</td>\n      <td>Geografia</td>\n      <td>7</td>\n      <td>2</td>\n    </tr>\n    <tr>\n      <th>8</th>\n      <td>8</td>\n      <td>Informatyka</td>\n      <td>8</td>\n      <td>5</td>\n    </tr>\n    <tr>\n      <th>9</th>\n      <td>9</td>\n      <td>Fizyka</td>\n      <td>9</td>\n      <td>3</td>\n    </tr>\n    <tr>\n      <th>10</th>\n      <td>10</td>\n      <td>Plastyka</td>\n      <td>10</td>\n      <td>2</td>\n    </tr>\n    <tr>\n      <th>11</th>\n      <td>11</td>\n      <td>Muzyka</td>\n      <td>11</td>\n      <td>2</td>\n    </tr>\n  </tbody>\n</table>\n</div>"
     },
     "execution_count": 10,
     "metadata": {},
     "output_type": "execute_result"
    }
   ],
   "source": [
    "subjects = pd.read_csv('subjects.csv')\n",
    "subjects"
   ],
   "metadata": {
    "collapsed": false
   }
  }
 ],
 "metadata": {
  "kernelspec": {
   "display_name": "Python 3",
   "language": "python",
   "name": "python3"
  },
  "language_info": {
   "codemirror_mode": {
    "name": "ipython",
    "version": 2
   },
   "file_extension": ".py",
   "mimetype": "text/x-python",
   "name": "python",
   "nbconvert_exporter": "python",
   "pygments_lexer": "ipython2",
   "version": "2.7.6"
  }
 },
 "nbformat": 4,
 "nbformat_minor": 0
}
